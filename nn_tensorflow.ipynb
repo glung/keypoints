{
 "cells": [
  {
   "cell_type": "code",
   "execution_count": 1,
   "metadata": {
    "collapsed": false
   },
   "outputs": [],
   "source": [
    "%matplotlib inline\n",
    "%load_ext autoreload\n",
    "%autoreload 1"
   ]
  },
  {
   "cell_type": "code",
   "execution_count": 4,
   "metadata": {
    "collapsed": false
   },
   "outputs": [],
   "source": [
    "%aimport nn_connected"
   ]
  },
  {
   "cell_type": "code",
   "execution_count": 5,
   "metadata": {
    "collapsed": false,
    "scrolled": false
   },
   "outputs": [
    {
     "name": "stdout",
     "output_type": "stream",
     "text": [
      "[data_sets] train: 2739, validation 685, test: 856\n",
      "[EVAL] Step 99: loss = 80723808.00 (0.011 sec)\n",
      "Training Data Eval:\n",
      "  Num examples: 2700 scores: 205123670016.000000 mean: 452905.807002  std: 0.000000\n",
      "Validation Data Eval:\n",
      "  Num examples: 600 scores: 44579959296.000000 mean: 211139.667746  std: 0.000000\n",
      "Test Data Eval:\n",
      "  Num examples: 800 scores: 61127539712.000000 mean: 247239.842485  std: 0.000000\n",
      "[EVAL] Step 199: loss = 32789820.00 (0.011 sec)\n",
      "Training Data Eval:\n",
      "  Num examples: 2700 scores: 327690288128.000000 mean: 572442.388479  std: 0.000000\n",
      "Validation Data Eval:\n",
      "  Num examples: 600 scores: 72704525312.000000 mean: 269637.766850  std: 0.000000\n",
      "Test Data Eval:\n",
      "  Num examples: 800 scores: 98574175232.000000 mean: 313965.245261  std: 0.000000\n",
      "[EVAL] Step 299: loss = 17529882.00 (0.012 sec)\n",
      "Training Data Eval:\n",
      "  Num examples: 2700 scores: 346756882432.000000 mean: 588860.664701  std: 0.000000\n",
      "Validation Data Eval:\n",
      "  Num examples: 600 scores: 76462908416.000000 mean: 276519.273137  std: 0.000000\n",
      "Test Data Eval:\n",
      "  Num examples: 800 scores: 103879004160.000000 mean: 322302.659251  std: 0.000000\n",
      "[EVAL] Step 399: loss = 18372774.00 (0.012 sec)\n",
      "Training Data Eval:\n",
      "  Num examples: 2700 scores: 372044371968.000000 mean: 609954.401548  std: 0.000000\n",
      "Validation Data Eval:\n",
      "  Num examples: 600 scores: 82197540864.000000 mean: 286701.135094  std: 0.000000\n",
      "Test Data Eval:\n",
      "  Num examples: 800 scores: 111516682240.000000 mean: 333941.135891  std: 0.000000\n",
      "[EVAL] Step 499: loss = 50647392.00 (0.013 sec)\n",
      "Training Data Eval:\n",
      "  Num examples: 2700 scores: 253665773568.000000 mean: 503652.433299  std: 0.000000\n",
      "Validation Data Eval:\n",
      "  Num examples: 600 scores: 55845795840.000000 mean: 236317.150965  std: 0.000000\n",
      "Test Data Eval:\n",
      "  Num examples: 800 scores: 75376467968.000000 mean: 274547.751708  std: 0.000000\n",
      "[EVAL] Step 599: loss = 51506496.00 (0.011 sec)\n",
      "Training Data Eval:\n",
      "  Num examples: 2700 scores: 287832893440.000000 mean: 536500.599664  std: 0.000000\n",
      "Validation Data Eval:\n",
      "  Num examples: 600 scores: 63658142720.000000 mean: 252305.653365  std: 0.000000\n",
      "Test Data Eval:\n",
      "  Num examples: 800 scores: 86407967744.000000 mean: 293952.322229  std: 0.000000\n",
      "[EVAL] Step 699: loss = 46140552.00 (0.011 sec)\n",
      "Training Data Eval:\n",
      "  Num examples: 2700 scores: 294990635008.000000 mean: 543130.403318  std: 0.000000\n",
      "Validation Data Eval:\n",
      "  Num examples: 600 scores: 64842691584.000000 mean: 254642.281611  std: 0.000000\n",
      "Test Data Eval:\n",
      "  Num examples: 800 scores: 88010099712.000000 mean: 296664.962057  std: 0.000000\n",
      "[EVAL] Step 799: loss = 63491976.00 (0.011 sec)\n",
      "Training Data Eval:\n",
      "  Num examples: 2700 scores: 221773248512.000000 mean: 470928.071484  std: 0.000000\n",
      "Validation Data Eval:\n",
      "  Num examples: 600 scores: 48863989248.000000 mean: 221052.005754  std: 0.000000\n",
      "Test Data Eval:\n",
      "  Num examples: 800 scores: 66162505216.000000 mean: 257220.732477  std: 0.000000\n",
      "[EVAL] Step 899: loss = 59189520.00 (0.011 sec)\n",
      "Training Data Eval:\n",
      "  Num examples: 2700 scores: 255291223040.000000 mean: 505263.518414  std: 0.000000\n",
      "Validation Data Eval:\n",
      "  Num examples: 600 scores: 56126666752.000000 mean: 236910.672516  std: 0.000000\n",
      "Test Data Eval:\n",
      "  Num examples: 800 scores: 75858164736.000000 mean: 275423.609620  std: 0.000000\n",
      "[EVAL] Step 999: loss = 88354176.00 (0.145 sec)\n",
      "Training Data Eval:\n",
      "  Num examples: 2700 scores: 162960032256.000000 mean: 403683.083936  std: 0.000000\n",
      "Validation Data Eval:\n",
      "  Num examples: 600 scores: 36023355392.000000 mean: 189798.196493  std: 0.000000\n",
      "Test Data Eval:\n",
      "  Num examples: 800 scores: 48710713344.000000 mean: 220705.036970  std: 0.000000\n"
     ]
    }
   ],
   "source": [
    "nn_connected.run_training()"
   ]
  },
  {
   "cell_type": "code",
   "execution_count": null,
   "metadata": {
    "collapsed": true
   },
   "outputs": [],
   "source": [
    "# TODO : SHOW REAL PREDICTIONS"
   ]
  },
  {
   "cell_type": "code",
   "execution_count": null,
   "metadata": {
    "collapsed": true
   },
   "outputs": [],
   "source": []
  }
 ],
 "metadata": {
  "kernelspec": {
   "display_name": "Python 2",
   "language": "python",
   "name": "python2"
  },
  "language_info": {
   "codemirror_mode": {
    "name": "ipython",
    "version": 2
   },
   "file_extension": ".py",
   "mimetype": "text/x-python",
   "name": "python",
   "nbconvert_exporter": "python",
   "pygments_lexer": "ipython2",
   "version": "2.7.11"
  }
 },
 "nbformat": 4,
 "nbformat_minor": 0
}
