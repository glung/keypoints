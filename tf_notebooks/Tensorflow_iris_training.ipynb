{
 "cells": [
  {
   "cell_type": "code",
   "execution_count": 21,
   "metadata": {
    "collapsed": false
   },
   "outputs": [
    {
     "name": "stderr",
     "output_type": "stream",
     "text": [
      "WARNING:tensorflow:load_csv (from tensorflow.contrib.learn.python.learn.datasets.base) is deprecated and will be removed after 2016-09-15.\n",
      "Instructions for updating:\n",
      "Please use load_csv_{with|without}_header instead.\n",
      "WARNING:tensorflow:load_csv (from tensorflow.contrib.learn.python.learn.datasets.base) is deprecated and will be removed after 2016-09-15.\n",
      "Instructions for updating:\n",
      "Please use load_csv_{with|without}_header instead.\n",
      "WARNING:tensorflow:Using default config.\n",
      "INFO:tensorflow:Using config: {'task': 0, 'save_summary_steps': 100, 'keep_checkpoint_max': 5, 'save_checkpoints_secs': 60, 'tf_config': intra_op_parallelism_threads: 4\n",
      "inter_op_parallelism_threads: 4\n",
      "gpu_options {\n",
      "  per_process_gpu_memory_fraction: 1\n",
      "}\n",
      ", 'master': '', 'keep_checkpoint_every_n_hours': 10000, 'tf_random_seed': 42, 'num_ps_replicas': 0}\n",
      "WARNING:tensorflow:float64 is not supported by many models, consider casting to float32.\n",
      "WARNING:tensorflow:Setting feature info to TensorSignature(dtype=tf.float64, shape=TensorShape([Dimension(None), Dimension(4)]), is_sparse=False)\n",
      "WARNING:tensorflow:Setting targets info to TensorSignature(dtype=tf.int64, shape=TensorShape([Dimension(None)]), is_sparse=False)\n",
      "INFO:tensorflow:Transforming feature_column _RealValuedColumn(column_name='', dimension=4, default_value=None, dtype=tf.float32)\n",
      "INFO:tensorflow:Create CheckpointSaver\n",
      "INFO:tensorflow:Restored model from /tmp/iris_model/model.ckpt-12000-?????-of-00001\n",
      "INFO:tensorflow:Step 12001: loss = 0.0233182\n",
      "INFO:tensorflow:Saving checkpoints for 12001 into /tmp/iris_model/model.ckpt.\n",
      "INFO:tensorflow:Step 12101: loss = 0.023252\n",
      "INFO:tensorflow:Step 12201: loss = 0.0231858\n",
      "INFO:tensorflow:Step 12301: loss = 0.0231198\n",
      "INFO:tensorflow:Step 12401: loss = 0.0230573\n",
      "INFO:tensorflow:Step 12501: loss = 0.0230025\n",
      "INFO:tensorflow:Step 12601: loss = 0.022942\n",
      "INFO:tensorflow:Step 12701: loss = 0.0228867\n",
      "INFO:tensorflow:Step 12801: loss = 0.0228243\n",
      "INFO:tensorflow:Step 12901: loss = 0.0227695\n",
      "INFO:tensorflow:Step 13001: loss = 0.0227153\n",
      "INFO:tensorflow:Step 13101: loss = 0.022664\n",
      "INFO:tensorflow:Step 13201: loss = 0.0226079\n",
      "INFO:tensorflow:Step 13301: loss = 0.0225608\n",
      "INFO:tensorflow:Step 13401: loss = 0.022506\n",
      "INFO:tensorflow:Step 13501: loss = 0.0224627\n",
      "INFO:tensorflow:Step 13601: loss = 0.0224092\n",
      "INFO:tensorflow:Step 13701: loss = 0.022363\n",
      "INFO:tensorflow:Step 13801: loss = 0.0223112\n",
      "INFO:tensorflow:Step 13901: loss = 0.0222661\n",
      "INFO:tensorflow:Step 14001: loss = 0.0222236\n",
      "INFO:tensorflow:Step 14101: loss = 0.0221746\n",
      "INFO:tensorflow:Step 14201: loss = 0.022131\n",
      "INFO:tensorflow:Step 14301: loss = 0.0220902\n",
      "INFO:tensorflow:Step 14401: loss = 0.0220454\n",
      "INFO:tensorflow:Step 14501: loss = 0.0220091\n",
      "INFO:tensorflow:Step 14601: loss = 0.0219636\n",
      "INFO:tensorflow:Step 14701: loss = 0.0219405\n",
      "INFO:tensorflow:Step 14801: loss = 0.0218887\n",
      "INFO:tensorflow:Step 14901: loss = 0.0218419\n",
      "INFO:tensorflow:Step 15001: loss = 0.02181\n",
      "INFO:tensorflow:Step 15101: loss = 0.0217641\n",
      "INFO:tensorflow:Step 15201: loss = 0.0217264\n",
      "INFO:tensorflow:Step 15301: loss = 0.0216901\n",
      "INFO:tensorflow:Step 15401: loss = 0.0216529\n",
      "INFO:tensorflow:Step 15501: loss = 0.0216231\n",
      "INFO:tensorflow:Step 15601: loss = 0.0215791\n",
      "INFO:tensorflow:Step 15701: loss = 0.0215415\n",
      "INFO:tensorflow:Step 15801: loss = 0.0215085\n",
      "INFO:tensorflow:Step 15901: loss = 0.0214702\n",
      "INFO:tensorflow:Step 16001: loss = 0.0214338\n",
      "INFO:tensorflow:Step 16101: loss = 0.0213969\n",
      "INFO:tensorflow:Step 16201: loss = 0.0213628\n",
      "INFO:tensorflow:Step 16301: loss = 0.0213332\n",
      "INFO:tensorflow:Step 16401: loss = 0.0212994\n",
      "INFO:tensorflow:Step 16501: loss = 0.0212677\n",
      "INFO:tensorflow:Step 16601: loss = 0.0212357\n",
      "INFO:tensorflow:Step 16701: loss = 0.0212009\n",
      "INFO:tensorflow:Step 16801: loss = 0.0211688\n",
      "INFO:tensorflow:Step 16901: loss = 0.0211425\n",
      "INFO:tensorflow:Step 17001: loss = 0.0211134\n",
      "INFO:tensorflow:Step 17101: loss = 0.0210807\n",
      "INFO:tensorflow:Step 17201: loss = 0.0210447\n",
      "INFO:tensorflow:Step 17301: loss = 0.0210186\n",
      "INFO:tensorflow:Step 17401: loss = 0.0209916\n",
      "INFO:tensorflow:Step 17501: loss = 0.0209618\n",
      "INFO:tensorflow:Step 17601: loss = 0.0209223\n",
      "INFO:tensorflow:Step 17701: loss = 0.0208943\n",
      "INFO:tensorflow:Step 17801: loss = 0.0208679\n",
      "INFO:tensorflow:Step 17901: loss = 0.0208434\n",
      "INFO:tensorflow:Step 18001: loss = 0.0208204\n",
      "INFO:tensorflow:Step 18101: loss = 0.0207866\n",
      "INFO:tensorflow:Step 18201: loss = 0.0207552\n",
      "INFO:tensorflow:Step 18301: loss = 0.0207288\n",
      "INFO:tensorflow:Step 18401: loss = 0.0207021\n",
      "INFO:tensorflow:Step 18501: loss = 0.0206747\n",
      "INFO:tensorflow:Step 18601: loss = 0.0206462\n",
      "INFO:tensorflow:Step 18701: loss = 0.0206201\n",
      "INFO:tensorflow:Step 18801: loss = 0.0205952\n",
      "INFO:tensorflow:Step 18901: loss = 0.0205666\n",
      "INFO:tensorflow:Step 19001: loss = 0.0205408\n",
      "INFO:tensorflow:Step 19101: loss = 0.0205165\n",
      "INFO:tensorflow:Step 19201: loss = 0.0204924\n",
      "INFO:tensorflow:Step 19301: loss = 0.0204655\n",
      "INFO:tensorflow:Step 19401: loss = 0.020425\n",
      "INFO:tensorflow:Step 19501: loss = 0.0204065\n",
      "INFO:tensorflow:Step 19601: loss = 0.0203814\n",
      "INFO:tensorflow:Step 19701: loss = 0.0203549\n",
      "INFO:tensorflow:Step 19801: loss = 0.0203337\n",
      "INFO:tensorflow:Step 19901: loss = 0.0203097\n",
      "INFO:tensorflow:Step 20001: loss = 0.0202855\n",
      "INFO:tensorflow:Step 20101: loss = 0.020261\n",
      "INFO:tensorflow:Step 20201: loss = 0.0202423\n",
      "INFO:tensorflow:Step 20301: loss = 0.020223\n",
      "INFO:tensorflow:Step 20401: loss = 0.0201987\n",
      "INFO:tensorflow:Step 20501: loss = 0.0201742\n",
      "INFO:tensorflow:Step 20601: loss = 0.0201514\n",
      "INFO:tensorflow:Step 20701: loss = 0.0201266\n",
      "INFO:tensorflow:Step 20801: loss = 0.020106\n",
      "INFO:tensorflow:Step 20901: loss = 0.0200829\n",
      "INFO:tensorflow:Step 21001: loss = 0.0200616\n",
      "INFO:tensorflow:Step 21101: loss = 0.0200373\n",
      "INFO:tensorflow:Step 21201: loss = 0.0200158\n",
      "INFO:tensorflow:Step 21301: loss = 0.0199946\n",
      "INFO:tensorflow:Step 21401: loss = 0.0199714\n",
      "INFO:tensorflow:Step 21501: loss = 0.019949\n",
      "INFO:tensorflow:Step 21601: loss = 0.019928\n",
      "INFO:tensorflow:Step 21701: loss = 0.019909\n",
      "INFO:tensorflow:Step 21801: loss = 0.0198872\n",
      "INFO:tensorflow:Step 21901: loss = 0.0198651\n",
      "INFO:tensorflow:Step 22001: loss = 0.0198452\n",
      "INFO:tensorflow:Step 22101: loss = 0.0198244\n",
      "INFO:tensorflow:Step 22201: loss = 0.0198043\n",
      "INFO:tensorflow:Step 22301: loss = 0.019785\n",
      "INFO:tensorflow:Step 22401: loss = 0.0197677\n",
      "INFO:tensorflow:Step 22501: loss = 0.0197454\n",
      "INFO:tensorflow:Step 22601: loss = 0.0197242\n",
      "INFO:tensorflow:Step 22701: loss = 0.0197043\n",
      "INFO:tensorflow:Step 22801: loss = 0.0196886\n",
      "INFO:tensorflow:Step 22901: loss = 0.019667\n",
      "INFO:tensorflow:Step 23001: loss = 0.0196481\n",
      "INFO:tensorflow:Step 23101: loss = 0.019627\n",
      "INFO:tensorflow:Step 23201: loss = 0.0196059\n",
      "INFO:tensorflow:Step 23301: loss = 0.0195869\n",
      "INFO:tensorflow:Step 23401: loss = 0.0195646\n",
      "INFO:tensorflow:Step 23501: loss = 0.0195501\n",
      "INFO:tensorflow:Step 23601: loss = 0.0195295\n",
      "INFO:tensorflow:Step 23701: loss = 0.0195118\n",
      "INFO:tensorflow:Step 23801: loss = 0.0194969\n",
      "INFO:tensorflow:Step 23901: loss = 0.0194776\n",
      "INFO:tensorflow:Step 24001: loss = 0.0194581\n",
      "INFO:tensorflow:Step 24101: loss = 0.0194404\n",
      "INFO:tensorflow:Step 24201: loss = 0.0194215\n",
      "INFO:tensorflow:Step 24301: loss = 0.0194066\n",
      "INFO:tensorflow:Step 24401: loss = 0.0193867\n",
      "INFO:tensorflow:Step 24501: loss = 0.0193672\n",
      "INFO:tensorflow:Step 24601: loss = 0.0193487\n",
      "INFO:tensorflow:Step 24701: loss = 0.0193315\n",
      "INFO:tensorflow:Step 24801: loss = 0.0193141\n",
      "INFO:tensorflow:Step 24901: loss = 0.0192974\n",
      "INFO:tensorflow:Step 25001: loss = 0.0192809\n",
      "INFO:tensorflow:Step 25101: loss = 0.0192604\n",
      "INFO:tensorflow:Step 25201: loss = 0.0192469\n",
      "INFO:tensorflow:Step 25301: loss = 0.0192283\n",
      "INFO:tensorflow:Step 25401: loss = 0.019209\n",
      "INFO:tensorflow:Step 25501: loss = 0.019194\n",
      "INFO:tensorflow:Step 25601: loss = 0.01918\n",
      "INFO:tensorflow:Step 25701: loss = 0.0191623\n",
      "INFO:tensorflow:Step 25801: loss = 0.0191448\n",
      "INFO:tensorflow:Step 25901: loss = 0.0191307\n",
      "INFO:tensorflow:Step 26001: loss = 0.0191107\n",
      "INFO:tensorflow:Step 26101: loss = 0.0191008\n",
      "INFO:tensorflow:Step 26201: loss = 0.0190827\n",
      "INFO:tensorflow:Step 26301: loss = 0.0190681\n",
      "INFO:tensorflow:Step 26401: loss = 0.0190508\n",
      "INFO:tensorflow:Step 26501: loss = 0.0190342\n",
      "INFO:tensorflow:Step 26601: loss = 0.0190204\n",
      "INFO:tensorflow:Step 26701: loss = 0.0190048\n",
      "INFO:tensorflow:Step 26801: loss = 0.0189917\n",
      "INFO:tensorflow:Step 26901: loss = 0.0189754\n",
      "INFO:tensorflow:Step 27001: loss = 0.0189608\n",
      "INFO:tensorflow:Step 27101: loss = 0.0189457\n",
      "INFO:tensorflow:Step 27201: loss = 0.0189337\n",
      "INFO:tensorflow:Step 27301: loss = 0.0189162\n",
      "INFO:tensorflow:Step 27401: loss = 0.0189012\n",
      "INFO:tensorflow:Step 27501: loss = 0.018888\n",
      "INFO:tensorflow:Step 27601: loss = 0.018875\n",
      "INFO:tensorflow:Step 27701: loss = 0.0188583\n",
      "INFO:tensorflow:Step 27801: loss = 0.0188436\n",
      "INFO:tensorflow:Step 27901: loss = 0.0188289\n",
      "INFO:tensorflow:Step 28001: loss = 0.0188156\n",
      "INFO:tensorflow:Step 28101: loss = 0.0187996\n",
      "INFO:tensorflow:Step 28201: loss = 0.0187825\n",
      "INFO:tensorflow:Step 28301: loss = 0.018773\n",
      "INFO:tensorflow:Step 28401: loss = 0.0187602\n",
      "INFO:tensorflow:Step 28501: loss = 0.0187459\n",
      "INFO:tensorflow:Step 28601: loss = 0.0187302\n",
      "INFO:tensorflow:Step 28701: loss = 0.0187204\n",
      "INFO:tensorflow:Step 28801: loss = 0.0187083\n",
      "INFO:tensorflow:Step 28901: loss = 0.018693\n",
      "INFO:tensorflow:Step 29001: loss = 0.0186808\n",
      "INFO:tensorflow:Step 29101: loss = 0.018668\n",
      "INFO:tensorflow:Step 29201: loss = 0.0186544\n",
      "INFO:tensorflow:Step 29301: loss = 0.0186377\n",
      "INFO:tensorflow:Step 29401: loss = 0.0186217\n",
      "INFO:tensorflow:Step 29501: loss = 0.0186133\n",
      "INFO:tensorflow:Step 29601: loss = 0.0185976\n",
      "INFO:tensorflow:Step 29701: loss = 0.0185841\n",
      "INFO:tensorflow:Step 29801: loss = 0.0185718\n",
      "INFO:tensorflow:Step 29901: loss = 0.0185597\n",
      "INFO:tensorflow:Step 30001: loss = 0.0185458\n",
      "INFO:tensorflow:Step 30101: loss = 0.018536\n",
      "INFO:tensorflow:Step 30201: loss = 0.0185224\n",
      "INFO:tensorflow:Step 30301: loss = 0.0185087\n",
      "INFO:tensorflow:Step 30401: loss = 0.0184988\n",
      "INFO:tensorflow:Step 30501: loss = 0.018485\n",
      "INFO:tensorflow:Step 30601: loss = 0.0184742\n",
      "INFO:tensorflow:Step 30701: loss = 0.0184615\n",
      "INFO:tensorflow:Step 30801: loss = 0.0184481\n",
      "INFO:tensorflow:Step 30901: loss = 0.0184414\n",
      "INFO:tensorflow:Step 31001: loss = 0.018427\n",
      "INFO:tensorflow:Step 31101: loss = 0.0184158\n",
      "INFO:tensorflow:Step 31201: loss = 0.0184035\n",
      "INFO:tensorflow:Step 31301: loss = 0.018391\n",
      "INFO:tensorflow:Step 31401: loss = 0.0183792\n",
      "INFO:tensorflow:Step 31501: loss = 0.0183686\n",
      "INFO:tensorflow:Step 31601: loss = 0.0183594\n",
      "INFO:tensorflow:Step 31701: loss = 0.0183452\n",
      "INFO:tensorflow:Step 31801: loss = 0.0183329\n",
      "INFO:tensorflow:Step 31901: loss = 0.0183222\n",
      "INFO:tensorflow:Saving checkpoints for 32000 into /tmp/iris_model/model.ckpt.\n",
      "INFO:tensorflow:Loss for final step: 0.0180766.\n",
      "WARNING:tensorflow:float64 is not supported by many models, consider casting to float32.\n",
      "WARNING:tensorflow:Given features: Tensor(\"input:0\", shape=(?, 4), dtype=float64), required signatures: TensorSignature(dtype=tf.float64, shape=TensorShape([Dimension(None), Dimension(4)]), is_sparse=False).\n",
      "WARNING:tensorflow:Given targets: Tensor(\"output:0\", shape=(?,), dtype=int64), required signatures: TensorSignature(dtype=tf.int64, shape=TensorShape([Dimension(None)]), is_sparse=False).\n",
      "INFO:tensorflow:Transforming feature_column _RealValuedColumn(column_name='', dimension=4, default_value=None, dtype=tf.float32)\n",
      "INFO:tensorflow:Restored model from /tmp/iris_model/model.ckpt-32000-?????-of-00001\n",
      "INFO:tensorflow:Eval steps [0,inf) for training step 32000.\n",
      "INFO:tensorflow:Input iterator is exhausted.\n",
      "INFO:tensorflow:Saving evaluation summary for 32000 step: loss = 0.28924, accuracy = 0.966667\n",
      "WARNING:tensorflow:float64 is not supported by many models, consider casting to float32.\n",
      "INFO:tensorflow:Transforming feature_column _RealValuedColumn(column_name='', dimension=4, default_value=None, dtype=tf.float32)\n",
      "INFO:tensorflow:Loading model from checkpoint: /tmp/iris_model/model.ckpt-32000-?????-of-00001.\n"
     ]
    },
    {
     "name": "stdout",
     "output_type": "stream",
     "text": [
      "Accuracy: 0.966667\n",
      "Predictions: [1 1]\n"
     ]
    }
   ],
   "source": [
    "from __future__ import absolute_import\n",
    "from __future__ import division\n",
    "from __future__ import print_function\n",
    "\n",
    "import tensorflow as tf\n",
    "import numpy as np\n",
    "\n",
    "tf.logging.set_verbosity(tf.logging.INFO)\n",
    "\n",
    "# Data sets\n",
    "IRIS_TRAINING = \"iris_training.csv\"\n",
    "IRIS_TEST = \"iris_test.csv\"\n",
    "\n",
    "# Load datasets.\n",
    "training_set = tf.contrib.learn.datasets.base.load_csv(filename=IRIS_TRAINING,target_dtype=np.int)\n",
    "test_set = tf.contrib.learn.datasets.base.load_csv(filename=IRIS_TEST,target_dtype=np.int)\n",
    "\n",
    "# Specify that all features have real-value data\n",
    "feature_columns = [tf.contrib.layers.real_valued_column(\"\", dimension=4)]\n",
    "\n",
    "# Build 3 layer DNN with 10, 20, 10 units respectively.\n",
    "classifier = tf.contrib.learn.DNNClassifier(feature_columns=feature_columns,\n",
    "                                            hidden_units=[10, 20, 10],\n",
    "                                            n_classes=3,\n",
    "                                            model_dir=\"/tmp/iris_model\")\n",
    "\n",
    "# Fit model.\n",
    "classifier.fit(x=training_set.data,\n",
    "               y=training_set.target,\n",
    "               steps=20000)\n",
    "\n",
    "# Evaluate accuracy.\n",
    "accuracy_score = classifier.evaluate(x=test_set.data,\n",
    "                                     y=test_set.target)[\"accuracy\"]\n",
    "print('Accuracy: {0:f}'.format(accuracy_score))\n",
    "\n",
    "# Classify two new flower samples.\n",
    "new_samples = np.array(\n",
    "    [[6.4, 3.2, 4.5, 1.5], [5.8, 3.1, 5.0, 1.7]], dtype=float)\n",
    "y = classifier.predict(new_samples)\n",
    "print('Predictions: {}'.format(str(y)))"
   ]
  },
  {
   "cell_type": "code",
   "execution_count": 5,
   "metadata": {
    "collapsed": false
   },
   "outputs": [
    {
     "data": {
      "text/plain": [
       "(120, 4)"
      ]
     },
     "execution_count": 5,
     "metadata": {},
     "output_type": "execute_result"
    }
   ],
   "source": [
    "training_set.data.shape"
   ]
  },
  {
   "cell_type": "code",
   "execution_count": 6,
   "metadata": {
    "collapsed": false
   },
   "outputs": [
    {
     "data": {
      "text/plain": [
       "(120,)"
      ]
     },
     "execution_count": 6,
     "metadata": {},
     "output_type": "execute_result"
    }
   ],
   "source": [
    "training_set.target.shape"
   ]
  },
  {
   "cell_type": "code",
   "execution_count": 8,
   "metadata": {
    "collapsed": false
   },
   "outputs": [
    {
     "name": "stderr",
     "output_type": "stream",
     "text": [
      "WARNING:tensorflow:float64 is not supported by many models, consider casting to float32.\n",
      "WARNING:tensorflow:Given features: Tensor(\"input:0\", shape=(?, 4), dtype=float64), required signatures: TensorSignature(dtype=tf.float64, shape=TensorShape([Dimension(None), Dimension(4)]), is_sparse=False).\n",
      "WARNING:tensorflow:Given targets: Tensor(\"output:0\", shape=(?,), dtype=int64), required signatures: TensorSignature(dtype=tf.int64, shape=TensorShape([Dimension(None)]), is_sparse=False).\n"
     ]
    },
    {
     "data": {
      "text/plain": [
       "{'accuracy': 0.96666664, 'global_step': 2000, 'loss': 0.05149721}"
      ]
     },
     "execution_count": 8,
     "metadata": {},
     "output_type": "execute_result"
    }
   ],
   "source": [
    "classifier.evaluate(x=test_set.data, y=test_set.target)"
   ]
  },
  {
   "cell_type": "code",
   "execution_count": 11,
   "metadata": {
    "collapsed": false
   },
   "outputs": [
    {
     "name": "stderr",
     "output_type": "stream",
     "text": [
      "WARNING:tensorflow:float64 is not supported by many models, consider casting to float32.\n"
     ]
    },
    {
     "name": "stdout",
     "output_type": "stream",
     "text": [
      "Predictions: [1 2]\n"
     ]
    }
   ],
   "source": [
    "# Classify two new flower samples.\n",
    "new_samples = np.array([[6.4, 3.2, 4.5, 1.5], [5.8, 3.1, 5.0, 1.7]], dtype=float)\n",
    "y = classifier.predict(new_samples)\n",
    "print('Predictions: {}'.format(str(y)))"
   ]
  },
  {
   "cell_type": "code",
   "execution_count": null,
   "metadata": {
    "collapsed": true
   },
   "outputs": [],
   "source": []
  }
 ],
 "metadata": {
  "kernelspec": {
   "display_name": "Python 2",
   "language": "python",
   "name": "python2"
  },
  "language_info": {
   "codemirror_mode": {
    "name": "ipython",
    "version": 2
   },
   "file_extension": ".py",
   "mimetype": "text/x-python",
   "name": "python",
   "nbconvert_exporter": "python",
   "pygments_lexer": "ipython2",
   "version": "2.7.6"
  }
 },
 "nbformat": 4,
 "nbformat_minor": 1
}
